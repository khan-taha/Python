{
 "cells": [
  {
   "cell_type": "markdown",
   "metadata": {},
   "source": [
    "# Q1"
   ]
  },
  {
   "cell_type": "raw",
   "metadata": {},
   "source": [
    "Object Oriented Programming(OOP) is a programming model in which programs are organized around objects.An OOP language supports\n",
    "the features/concepts which are essential in object oriented programming\n",
    "\n",
    "The four pillars of OOP are:\n",
    "    1. Inheritance : \n",
    "    2. Polymorphism\n",
    "    3. Abstraction\n",
    "    4. Encapsulation"
   ]
  },
  {
   "cell_type": "markdown",
   "metadata": {},
   "source": [
    "# Q2"
   ]
  },
  {
   "cell_type": "raw",
   "metadata": {},
   "source": [
    "The following are the benefits of OOP:\n",
    "    \n",
    "    * Reusability of code\n",
    "    * Easier to maintain code\n",
    "    * Easier to debug code\n",
    "    * Easier to understand\n",
    "\n",
    "Due to all of the above reasons,the programmer can work in an efficient manner\n"
   ]
  },
  {
   "cell_type": "markdown",
   "metadata": {},
   "source": [
    "# Q3"
   ]
  },
  {
   "cell_type": "raw",
   "metadata": {},
   "source": [
    "    A function does not belong to any method or class.It can be called upon anywhere in the code without the dependency \n",
    "of an object.A function can only access the data within its scope or data passed inside the arguments.\n",
    "    A method is a member of a class.It must be associated with an object before invoking it.A method can access the data \n",
    "of the class"
   ]
  },
  {
   "cell_type": "markdown",
   "metadata": {},
   "source": [
    "# Q4"
   ]
  },
  {
   "cell_type": "raw",
   "metadata": {},
   "source": [
    "Class:\n",
    "    It is a blueprint of an object.It holds the methods and the data members(variables). A class defines the content \n",
    "the object will hold.\n",
    "\n",
    "Object:\n",
    "    It is an instance of a class.It will hold all the content previously defined in a class. Only objects can interact \n",
    "with a class.\n",
    "\n",
    "Attribute:\n",
    "    A class attribute is any variable that will hold some data inside a class. Objects can access it\n",
    "\n",
    "Behavior:\n",
    "    Are the functionalities of a class i.e the ability of a class to perform some work. Functionalities are basically \n",
    "    the methods of a class"
   ]
  },
  {
   "cell_type": "markdown",
   "metadata": {},
   "source": [
    "# Q5"
   ]
  },
  {
   "cell_type": "code",
   "execution_count": 16,
   "metadata": {},
   "outputs": [
    {
     "name": "stdout",
     "output_type": "stream",
     "text": [
      "{'name': 'Corolla', 'model': 'Altis', 'color': 'Blue', 'company': 'Toyota', 'horsepower': '150'}\n",
      "\n",
      "Car name : Corolla\n",
      "Model : Grande\n",
      "Color : White\n",
      "Company : Toyota\n",
      "Horsepower : 160\n",
      "\n",
      "Car name : Civic\n",
      "Model : 2019\n",
      "Color : Blue\n",
      "Company : Honda\n",
      "Horsepower : 170\n",
      "Car name : Civic\n",
      "Model : 2019\n",
      "Color : red\n",
      "Company : Honda\n",
      "Horsepower : 170\n"
     ]
    }
   ],
   "source": [
    "class Car:\n",
    "    def __init__(self, name, model, color, company, horsepower):\n",
    "        \n",
    "        self.name = name\n",
    "        self.model = model\n",
    "        self.color = color\n",
    "        self.company = company\n",
    "        self.horsepower = horsepower\n",
    "\n",
    "    def getInfo(self):\n",
    "        info = {\n",
    "                \"name\" : self.name, \n",
    "                \"model\" : self.model,\n",
    "                \"color\" : self.color,\n",
    "                \"company\" : self.company, \n",
    "                \"horsepower\" : self.horsepower\n",
    "        }\n",
    "        return info\n",
    "        \n",
    "    def printInfo(self):\n",
    "        \n",
    "        print(\"Car name : \" + self.name)\n",
    "        print(\"Model : \" + self.model)\n",
    "        print(\"Color : \" + self.color)\n",
    "        print(\"Company : \" + self.company)\n",
    "        print(\"Horsepower : \" + self.horsepower)\n",
    "        \n",
    "    def changeColor(self,color):\n",
    "        \n",
    "        self.color = color\n",
    "        \n",
    "        \n",
    "        \n",
    "        \n",
    "        \n",
    "obj1 = Car(\"Corolla\",\"Altis\",\"Blue\",\"Toyota\",\"150\")\n",
    "obj2 = Car(\"Corolla\",\"Grande\",\"White\",\"Toyota\",\"160\")\n",
    "obj3 = Car(\"Civic\",\"2019\",\"Blue\",\"Honda\",\"170\")\n",
    "obj4 = Car(\"City\",\"2017\",\"Black\",\"Honda\",\"150\")\n",
    "obj5 = Car(\"Mehran\",\"VX\",\"White\",\"Suzuki\",\"100\")\n",
    "\n",
    "print(obj1.getInfo())\n",
    "print()\n",
    "obj2.printInfo()\n",
    "print()\n",
    "obj3.printInfo()\n",
    "obj3.changeColor(\"red\")\n",
    "obj3.printInfo()"
   ]
  },
  {
   "cell_type": "code",
   "execution_count": null,
   "metadata": {},
   "outputs": [],
   "source": []
  }
 ],
 "metadata": {
  "kernelspec": {
   "display_name": "Python 3",
   "language": "python",
   "name": "python3"
  },
  "language_info": {
   "codemirror_mode": {
    "name": "ipython",
    "version": 3
   },
   "file_extension": ".py",
   "mimetype": "text/x-python",
   "name": "python",
   "nbconvert_exporter": "python",
   "pygments_lexer": "ipython3",
   "version": "3.7.4"
  }
 },
 "nbformat": 4,
 "nbformat_minor": 2
}
