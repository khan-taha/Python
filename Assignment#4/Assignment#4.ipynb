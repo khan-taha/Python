{
 "cells": [
  {
   "cell_type": "markdown",
   "metadata": {},
   "source": [
    "# Q1"
   ]
  },
  {
   "cell_type": "code",
   "execution_count": 1,
   "metadata": {},
   "outputs": [
    {
     "name": "stdout",
     "output_type": "stream",
     "text": [
      "Ali Khan 22 Karachi\n",
      "{'first_name': 'Ali', 'last_name': 'Khan', 'age': '22', 'city': 'Karachi', 'qualification': 'High academic level'}\n",
      "{'first_name': 'Ali', 'last_name': 'Khan', 'age': '22', 'city': 'Karachi'}\n"
     ]
    }
   ],
   "source": [
    "info = {\n",
    "    \"first_name\" : \"Ali\",\n",
    "    \"last_name\" : \"Khan\",\n",
    "    \"age\" : \"22\",\n",
    "    \"city\" : \"Karachi\",\n",
    "}\n",
    "\n",
    "print(info[\"first_name\"],info[\"last_name\"],info[\"age\"],info[\"city\"])\n",
    "\n",
    "info[\"qualification\"] = \"\"\n",
    "info[\"qualification\"] = \"High academic level\"\n",
    "\n",
    "print(info)\n",
    "\n",
    "info.pop(\"qualification\")\n",
    "\n",
    "print(info)"
   ]
  },
  {
   "cell_type": "markdown",
   "metadata": {},
   "source": [
    "# Q2"
   ]
  },
  {
   "cell_type": "code",
   "execution_count": 2,
   "metadata": {},
   "outputs": [
    {
     "name": "stdout",
     "output_type": "stream",
     "text": [
      "\n",
      "\t Karachi\n",
      "country  :  Pakistan\n",
      "population  :  15 million\n",
      "fact  :  Sixth largest city in the world by population\n",
      "\n",
      "\t Lahore\n",
      "country  :  Pakistan\n",
      "population  :  11 million\n",
      "fact  :  Known as the 'City of Gardens'\n",
      "\n",
      "\t Islamabad\n",
      "country  :  Pakistan\n",
      "population  :  1 million\n",
      "fact  :  Capital of Pakistan\n"
     ]
    }
   ],
   "source": [
    "cities = {\n",
    "    \"Karachi\" : {\n",
    "        \"country\" : \"Pakistan\",\n",
    "        \"population\" : \"15 million\",\n",
    "        \"fact\" : \"Sixth largest city in the world by population\"\n",
    "    },\n",
    "    \"Lahore\" : {\n",
    "        \"country\" : \"Pakistan\",\n",
    "        \"population\" : \"11 million\",\n",
    "        \"fact\" : \"Known as the 'City of Gardens'\"\n",
    "        \n",
    "    },\n",
    "    \"Islamabad\" : {\n",
    "        \"country\" : \"Pakistan\",\n",
    "        \"population\" : \"1 million\",\n",
    "        \"fact\" : \"Capital of Pakistan\"\n",
    "        \n",
    "    }\n",
    "}\n",
    "\n",
    "\n",
    "for i in cities:\n",
    "    print(\"\\n\\t\", i)\n",
    "    for key,value in cities[i].items():\n",
    "        print(key,\" : \",value)\n"
   ]
  },
  {
   "cell_type": "markdown",
   "metadata": {},
   "source": [
    "# Q3"
   ]
  },
  {
   "cell_type": "code",
   "execution_count": 4,
   "metadata": {},
   "outputs": [
    {
     "name": "stdout",
     "output_type": "stream",
     "text": [
      "Enter your age : 2\n",
      "The cost of your movie ticket is  free\n",
      "Enter your age : 5\n",
      "The cost of your movie ticket is  $10\n",
      "Enter your age : 9\n",
      "The cost of your movie ticket is  $10\n",
      "Enter your age : 16\n",
      "The cost of your movie ticket is  $15\n",
      "Enter your age : exit\n"
     ]
    }
   ],
   "source": [
    "\n",
    "\n",
    "while 1:\n",
    "    cost = 0\n",
    "    value = input(\"Enter your age : \")\n",
    "    \n",
    "    if value == \"exit\":\n",
    "        break;\n",
    "        \n",
    "    else:\n",
    "        value = int(value)\n",
    "        \n",
    "        if value < 3 and value > 0:\n",
    "            cost = \"free\"\n",
    "            \n",
    "        elif value >= 3 and value <=12:    \n",
    "            cost = \"$10\"\n",
    "            \n",
    "        else:\n",
    "            cost = \"$15\"\n",
    "            \n",
    "        print(\"The cost of your movie ticket is \",cost)\n",
    "    "
   ]
  },
  {
   "cell_type": "markdown",
   "metadata": {},
   "source": [
    "# Q4"
   ]
  },
  {
   "cell_type": "code",
   "execution_count": 4,
   "metadata": {},
   "outputs": [
    {
     "name": "stdout",
     "output_type": "stream",
     "text": [
      "One of my favourite books is The Jungle Book\n",
      "One of my favourite books is Harry Potter\n",
      "One of my favourite books is The Hunger Games\n"
     ]
    }
   ],
   "source": [
    "def favourite_book(title):\n",
    "    print(\"One of my favourite books is\",title)\n",
    "    \n",
    "favourite_book(\"The Jungle Book\")    \n",
    "favourite_book(\"Harry Potter\")\n",
    "favourite_book(\"The Hunger Games\")    "
   ]
  },
  {
   "cell_type": "markdown",
   "metadata": {},
   "source": [
    "# Q5"
   ]
  },
  {
   "cell_type": "code",
   "execution_count": 3,
   "metadata": {},
   "outputs": [
    {
     "name": "stdout",
     "output_type": "stream",
     "text": [
      "Guess the number (try#1) :24\n",
      "You entered a greater value\n",
      "Guess the number (try#2) :15\n",
      "You entered a greater value\n",
      "Guess the number (try#3) :10\n",
      "You entered a greater value\n",
      "The number to guess was  5\n"
     ]
    }
   ],
   "source": [
    "import random\n",
    "\n",
    "randNumber = random.randrange(1, 30)\n",
    "count =1  \n",
    "\n",
    "while count < 4:\n",
    "    \n",
    "    guessNumber = int(input(\"Guess the number (try#\"+str(count)+\") :\"))\n",
    "    \n",
    "    if guessNumber > randNumber:\n",
    "        \n",
    "        print(\"You entered a greater value\")\n",
    "    \n",
    "    elif guessNumber < randNumber:\n",
    "        \n",
    "        print(\"You entered a lower value\")\n",
    "        \n",
    "    else:    \n",
    "        \n",
    "        print(\"You entered the correct number\")\n",
    "        break;\n",
    "        \n",
    "    count=count+1;    \n",
    "        \n",
    "print(\"The number to guess was \",randNumber)   \n",
    "    \n",
    "        "
   ]
  },
  {
   "cell_type": "code",
   "execution_count": null,
   "metadata": {},
   "outputs": [],
   "source": []
  }
 ],
 "metadata": {
  "kernelspec": {
   "display_name": "Python 3",
   "language": "python",
   "name": "python3"
  },
  "language_info": {
   "codemirror_mode": {
    "name": "ipython",
    "version": 3
   },
   "file_extension": ".py",
   "mimetype": "text/x-python",
   "name": "python",
   "nbconvert_exporter": "python",
   "pygments_lexer": "ipython3",
   "version": "3.7.4"
  }
 },
 "nbformat": 4,
 "nbformat_minor": 2
}
