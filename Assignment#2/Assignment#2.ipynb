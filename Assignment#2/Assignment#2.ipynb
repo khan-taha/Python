{
 "cells": [
  {
   "cell_type": "code",
   "execution_count": 18,
   "metadata": {},
   "outputs": [
    {
     "name": "stdout",
     "output_type": "stream",
     "text": [
      "Enter marks for ENG : 45\n",
      "Enter marks for MATHS : 45\n",
      "Enter marks for ISL : 45\n",
      "Enter marks for URDU : 4\n",
      "Enter marks for SCI : 45\n",
      "\n",
      "\t\t MARKSHEET\n",
      "\n",
      "SUBJECT  MARKS  GRADE\n",
      "ENG \t 45 \t F\n",
      "MATHS \t 45 \t F\n",
      "ISL \t 45 \t F\n",
      "URDU \t 4 \t F\n",
      "SCI \t 45 \t F\n",
      "Total marks are  184 out of 500\n"
     ]
    }
   ],
   "source": [
    "### ques 1\n",
    "\n",
    "subjects = ['ENG','MATHS','ISL','URDU','SCI'];\n",
    "marks= [];\n",
    "totalMarks= 0;\n",
    "\n",
    "\n",
    "for i in subjects:\n",
    "    marks.append(int(input(\"Enter marks for {} : \".format(i))))\n",
    "    \n",
    "for i in marks:\n",
    "    totalMarks+=i\n",
    "    \n",
    "    \n",
    "print(\"\\n\\t\\t MARKSHEET\\n\")\n",
    "print(\"SUBJECT  MARKS  GRADE\")\n",
    "    \n",
    "for i in range(0,5):\n",
    "    if(marks[i]>=90):\n",
    "        grade='A'\n",
    "    elif(marks[i]<90 & marks[i]>=80):\n",
    "        grade='B'\n",
    "    elif(marks[i]<80 & marks[i]>=70):\n",
    "        grade='C'    \n",
    "    elif(marks[i]<70 & marks[i]>=50):\n",
    "        grade='D'\n",
    "    else:\n",
    "        grade='F'\n",
    "    \n",
    "    print(\"{} \\t {} \\t {}\".format(subjects[i],marks[i],grade))\n",
    "    \n",
    "print(\"Total marks are \",totalMarks, \"out of 500\")"
   ]
  },
  {
   "cell_type": "code",
   "execution_count": 19,
   "metadata": {},
   "outputs": [
    {
     "name": "stdout",
     "output_type": "stream",
     "text": [
      "Enter a number : 5\n",
      "5 is an odd number\n"
     ]
    }
   ],
   "source": [
    "#ques 2\n",
    "\n",
    "number =int(input(\"Enter a number : \"))\n",
    "\n",
    "if number%2==0:\n",
    "    print(\"{} is an even number\".format(number))\n",
    "else:\n",
    "    print(\"{} is an odd number\".format(number))\n",
    "    \n",
    "        "
   ]
  },
  {
   "cell_type": "code",
   "execution_count": 31,
   "metadata": {},
   "outputs": [
    {
     "name": "stdout",
     "output_type": "stream",
     "text": [
      "[0, 1, 2, 3, 4, 5, 6, 7, 8, 9, 10, 11]\n",
      "12\n"
     ]
    }
   ],
   "source": [
    "#ques 3\n",
    "\n",
    "List1 = [i for i in range(12)]\n",
    "\n",
    "print(List1)\n",
    "print(len(List1))"
   ]
  },
  {
   "cell_type": "code",
   "execution_count": 37,
   "metadata": {},
   "outputs": [
    {
     "name": "stdout",
     "output_type": "stream",
     "text": [
      "numeric elements in a list =  6\n"
     ]
    }
   ],
   "source": [
    "#ques 4\n",
    "\n",
    "items = [1,2,'a',3.9,4,'c',5,6,7.66,8,'qwerty']\n",
    "count=0;\n",
    "\n",
    "for i in items:\n",
    "    if type(i)==int:\n",
    "        count+=1;\n",
    " \n",
    "\n",
    "print(\"numeric elements in a list = \",count)\n",
    "    "
   ]
  },
  {
   "cell_type": "code",
   "execution_count": 52,
   "metadata": {},
   "outputs": [
    {
     "name": "stdout",
     "output_type": "stream",
     "text": [
      "[91, 25, 19, 32, 5, 7, 49, 66, 44, 35]\n"
     ]
    },
    {
     "data": {
      "text/plain": [
       "91"
      ]
     },
     "execution_count": 52,
     "metadata": {},
     "output_type": "execute_result"
    }
   ],
   "source": [
    "#ques 5\n",
    "import random\n",
    "\n",
    "items = [random.randrange(1, 99) for i in range(10)]\n",
    "\n",
    "print(items)\n",
    "max(items)\n",
    "\n",
    "\n"
   ]
  },
  {
   "cell_type": "code",
   "execution_count": 54,
   "metadata": {},
   "outputs": [
    {
     "name": "stdout",
     "output_type": "stream",
     "text": [
      "1\n",
      "1\n",
      "2\n",
      "3\n"
     ]
    }
   ],
   "source": [
    "#ques 6\n",
    "a = [1, 1, 2, 3, 5, 8, 13, 21, 34, 55, 89]\n",
    "\n",
    "for i in a:\n",
    "    if i < 5:\n",
    "        print(i)"
   ]
  }
 ],
 "metadata": {
  "kernelspec": {
   "display_name": "Python 3",
   "language": "python",
   "name": "python3"
  },
  "language_info": {
   "codemirror_mode": {
    "name": "ipython",
    "version": 3
   },
   "file_extension": ".py",
   "mimetype": "text/x-python",
   "name": "python",
   "nbconvert_exporter": "python",
   "pygments_lexer": "ipython3",
   "version": "3.7.4"
  }
 },
 "nbformat": 4,
 "nbformat_minor": 2
}
