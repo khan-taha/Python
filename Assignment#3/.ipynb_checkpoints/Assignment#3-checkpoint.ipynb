{
 "cells": [
  {
   "cell_type": "markdown",
   "metadata": {},
   "source": [
    "# Q1"
   ]
  },
  {
   "cell_type": "code",
   "execution_count": 8,
   "metadata": {},
   "outputs": [
    {
     "name": "stdout",
     "output_type": "stream",
     "text": [
      "3\n",
      "1\n",
      "5\n",
      "2.5\n",
      "125\n"
     ]
    }
   ],
   "source": [
    "def addition(para1,para2):\n",
    "    return para1+para2\n",
    "\n",
    "def subtraction(para1,para2):\n",
    "    return para1-para2\n",
    "\n",
    "def multiplication(para1,para2):\n",
    "    return para1*para2\n",
    "\n",
    "def division(para1,para2):\n",
    "    return para1/para2\n",
    "\n",
    "def power(para1,para2):\n",
    "    return para1**para2\n",
    "\n",
    "value1 = addition(1,2)\n",
    "value2 = subtraction(value1,2)\n",
    "value3 = multiplication(value2,5)\n",
    "value4 = division(value3,2)\n",
    "value5 = power(value3,3)\n",
    "\n",
    "print(value1)\n",
    "print(value2)\n",
    "print(value3)\n",
    "print(value4)\n",
    "print(value5)\n"
   ]
  },
  {
   "cell_type": "markdown",
   "metadata": {},
   "source": [
    "# Q2"
   ]
  },
  {
   "cell_type": "code",
   "execution_count": 9,
   "metadata": {},
   "outputs": [
    {
     "name": "stdout",
     "output_type": "stream",
     "text": [
      "True\n"
     ]
    }
   ],
   "source": [
    "flag = False\n",
    "\n",
    "info = [\"name\",\"something\",1.22,22,\"abc\"]\n",
    "\n",
    "for i in info:\n",
    "    if(type(i) == int):\n",
    "        flag = True\n",
    "        break\n",
    "   \n",
    "print(flag)    "
   ]
  },
  {
   "cell_type": "markdown",
   "metadata": {},
   "source": [
    "# Q3"
   ]
  },
  {
   "cell_type": "code",
   "execution_count": 15,
   "metadata": {},
   "outputs": [
    {
     "name": "stdout",
     "output_type": "stream",
     "text": [
      "{'name': 'TAHA', 'age': 20}\n",
      "{'name': 'TAHA', 'age': 20, 'address': ''}\n"
     ]
    }
   ],
   "source": [
    "dict1 = {\"name\" : \"TAHA\",\n",
    "        \"age\":20\n",
    "        }\n",
    "\n",
    "print(dict1)\n",
    "\n",
    "dict1[\"address\"] = ''\n",
    "\n",
    "print(dict1)\n"
   ]
  },
  {
   "cell_type": "markdown",
   "metadata": {},
   "source": [
    "# Q4"
   ]
  },
  {
   "cell_type": "code",
   "execution_count": 24,
   "metadata": {},
   "outputs": [
    {
     "name": "stdout",
     "output_type": "stream",
     "text": [
      "dict_values(['TAHA', 20, 30, 'khan', 1])\n",
      "Sum of numeric items in the dictionary =  51\n"
     ]
    }
   ],
   "source": [
    "dict2 = {\"str1\" : \"TAHA\",\n",
    "        \"num1\":20,\n",
    "        \"num2\":30,\n",
    "        \"str2\" : \"khan\",\n",
    "        \"num3\":1,\n",
    "        }\n",
    "sum=0\n",
    "\n",
    "values = dict2.values()\n",
    "print(values)\n",
    "\n",
    "for i in values:\n",
    "    if type(i) == int:\n",
    "        sum+=i\n",
    "        \n",
    "print(\"Sum of numeric items in the dictionary = \",sum)        "
   ]
  },
  {
   "cell_type": "markdown",
   "metadata": {},
   "source": [
    "# Q5"
   ]
  },
  {
   "cell_type": "code",
   "execution_count": 31,
   "metadata": {},
   "outputs": [
    {
     "data": {
      "text/plain": [
       "[1, 3, 5, 7]"
      ]
     },
     "execution_count": 31,
     "metadata": {},
     "output_type": "execute_result"
    }
   ],
   "source": [
    "import random\n",
    "\n",
    "values = [1,2,3,3,5,5,7,7,99,0,1]\n",
    "duplicateValues = []\n",
    "\n",
    "for i in range(len(values)):\n",
    "    nextIndex = i+1\n",
    "    for j in range(nextIndex,len(values)):\n",
    "        if values[i]==values[j]:\n",
    "            duplicateValues.append(values[i])\n",
    "            \n",
    "duplicateValues            \n",
    "        "
   ]
  },
  {
   "cell_type": "markdown",
   "metadata": {},
   "source": [
    "# Q6"
   ]
  },
  {
   "cell_type": "code",
   "execution_count": 36,
   "metadata": {},
   "outputs": [
    {
     "name": "stdout",
     "output_type": "stream",
     "text": [
      "False\n",
      "True\n",
      "False\n"
     ]
    }
   ],
   "source": [
    "dict1 = {\"name\" : \"TAHA\",\n",
    "        \"age\":20,\n",
    "         \"address\":\"xyz\"\n",
    "        }\n",
    "\n",
    "flag = \"a\" in dict1.keys()\n",
    "print(flag)\n",
    "flag = \"name\" in dict1.keys()\n",
    "print(flag)\n",
    "flag = 1 in dict1.keys()\n",
    "print(flag)\n",
    "\n"
   ]
  },
  {
   "cell_type": "code",
   "execution_count": null,
   "metadata": {},
   "outputs": [],
   "source": []
  }
 ],
 "metadata": {
  "kernelspec": {
   "display_name": "Python 3",
   "language": "python",
   "name": "python3"
  },
  "language_info": {
   "codemirror_mode": {
    "name": "ipython",
    "version": 3
   },
   "file_extension": ".py",
   "mimetype": "text/x-python",
   "name": "python",
   "nbconvert_exporter": "python",
   "pygments_lexer": "ipython3",
   "version": "3.7.4"
  }
 },
 "nbformat": 4,
 "nbformat_minor": 2
}
