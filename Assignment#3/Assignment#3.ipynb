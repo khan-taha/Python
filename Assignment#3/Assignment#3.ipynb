{
 "cells": [
  {
   "cell_type": "code",
   "execution_count": 9,
   "metadata": {},
   "outputs": [
    {
     "name": "stdout",
     "output_type": "stream",
     "text": [
      "3\n",
      "5\n",
      "10\n",
      "12\n",
      "10\n"
     ]
    }
   ],
   "source": [
    "def addition(para1,para2):\n",
    "    return para1+para2\n",
    "\n",
    "def subtraction(para1,para2):\n",
    "    return para1-para2\n",
    "\n",
    "def multiplication(para1,para2):\n",
    "    return para1*para2\n",
    "\n",
    "def division(para1,para2):\n",
    "    return para1/para2\n",
    "\n",
    "def power(para1,para2):\n",
    "    return para1**para2\n",
    "\n",
    "value1 = addition(1,2)\n",
    "value2 = addition(value1,2)\n",
    "value3 = addition(value2,5)\n",
    "value4 = addition(value3,2)\n",
    "value5 = addition(value2,value2)\n",
    "\n",
    "print(value1)\n",
    "print(value2)\n",
    "print(value3)\n",
    "print(value4)\n",
    "print(value5)\n"
   ]
  },
  {
   "cell_type": "code",
   "execution_count": 19,
   "metadata": {},
   "outputs": [
    {
     "name": "stdout",
     "output_type": "stream",
     "text": [
      "True\n"
     ]
    }
   ],
   "source": [
    "flag = False\n",
    "\n",
    "info = [\"name\",\"something\",1.22,22,\"abc\"]\n",
    "\n",
    "#print(type(int) in info)\n",
    "\n",
    "for i in info:\n",
    "    if(type(i) == int):\n",
    "        flag = True\n",
    "        break\n",
    "   \n",
    "print(flag)    \n",
    "\n"
   ]
  },
  {
   "cell_type": "code",
   "execution_count": null,
   "metadata": {},
   "outputs": [],
   "source": []
  }
 ],
 "metadata": {
  "kernelspec": {
   "display_name": "Python 3",
   "language": "python",
   "name": "python3"
  },
  "language_info": {
   "codemirror_mode": {
    "name": "ipython",
    "version": 3
   },
   "file_extension": ".py",
   "mimetype": "text/x-python",
   "name": "python",
   "nbconvert_exporter": "python",
   "pygments_lexer": "ipython3",
   "version": "3.7.4"
  }
 },
 "nbformat": 4,
 "nbformat_minor": 2
}
