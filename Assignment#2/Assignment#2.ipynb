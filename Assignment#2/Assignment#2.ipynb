{
 "cells": [
  {
   "cell_type": "markdown",
   "metadata": {},
   "source": [
    "#  Q1"
   ]
  },
  {
   "cell_type": "code",
   "execution_count": 9,
   "metadata": {},
   "outputs": [
    {
     "name": "stdout",
     "output_type": "stream",
     "text": [
      "Enter marks for ENG : 78\n",
      "Enter marks for MATHS : 88\n",
      "Enter marks for ISL : 90\n",
      "Enter marks for URDU : 23\n",
      "Enter marks for SCI : 55\n",
      "\n",
      "\t\t MARKSHEET\n",
      "\n",
      "SUBJECT  MARKS  GRADE\n",
      "ENG \t 78 \t C\n",
      "MATHS \t 88 \t B\n",
      "ISL \t 90 \t A\n",
      "URDU \t 23 \t F\n",
      "SCI \t 55 \t D\n",
      "\n",
      "Total marks are  334 out of 500\n",
      "Percentage =  66.8\n"
     ]
    }
   ],
   "source": [
    "subjects = ['ENG','MATHS','ISL','URDU','SCI'];\n",
    "marks = [];\n",
    "totalMarks = 0;\n",
    "percentage = 0;\n",
    "\n",
    "\n",
    "for i in subjects:\n",
    "    marks.append(int(input(\"Enter marks for {} : \".format(i))))\n",
    "    \n",
    "for i in marks:\n",
    "    totalMarks+=i\n",
    "\n",
    "percentage = (totalMarks/500)*100\n",
    "    \n",
    "print(\"\\n\\t\\t MARKSHEET\\n\")\n",
    "print(\"SUBJECT  MARKS  GRADE\")\n",
    "    \n",
    "for i in range(0,5):\n",
    "    grade=''\n",
    "    if(marks[i]>=90):\n",
    "        grade='A'\n",
    "    elif(marks[i]<90 and marks[i]>=80):\n",
    "        grade='B'\n",
    "    elif(marks[i]<80 and marks[i]>=70):\n",
    "        grade='C'    \n",
    "    elif(marks[i]<70 and marks[i]>=50):\n",
    "        grade='D'\n",
    "    elif(marks[i]<50):\n",
    "        grade='F'\n",
    "    \n",
    "    print(\"{} \\t {} \\t {}\".format(subjects[i],marks[i],grade))\n",
    "    \n",
    "print(\"\\nTotal marks are \",totalMarks, \"out of 500\")\n",
    "print(\"Percentage = \",percentage)"
   ]
  },
  {
   "cell_type": "markdown",
   "metadata": {},
   "source": [
    "# Q2"
   ]
  },
  {
   "cell_type": "code",
   "execution_count": 44,
   "metadata": {},
   "outputs": [
    {
     "name": "stdout",
     "output_type": "stream",
     "text": [
      "Enter a number : 89\n",
      "89 is an odd number\n"
     ]
    }
   ],
   "source": [
    "number =int(input(\"Enter a number : \"))\n",
    "\n",
    "if number%2==0:\n",
    "    print(\"{} is an even number\".format(number))\n",
    "else:\n",
    "    print(\"{} is an odd number\".format(number))\n",
    "    \n",
    "        "
   ]
  },
  {
   "cell_type": "markdown",
   "metadata": {},
   "source": [
    "# Q3 (method 1)"
   ]
  },
  {
   "cell_type": "code",
   "execution_count": 43,
   "metadata": {},
   "outputs": [
    {
     "name": "stdout",
     "output_type": "stream",
     "text": [
      "[0, 1, 2, 3, 4, 5, 6, 7, 8, 9, 10, 11]\n",
      "Length of list =  12\n"
     ]
    }
   ],
   "source": [
    "List1 = [i for i in range(12)]\n",
    "\n",
    "print(List1)\n",
    "print(\"Length of list = \",len(List1))"
   ]
  },
  {
   "cell_type": "markdown",
   "metadata": {},
   "source": [
    "# Q3 (method 2)"
   ]
  },
  {
   "cell_type": "code",
   "execution_count": 42,
   "metadata": {},
   "outputs": [
    {
     "name": "stdout",
     "output_type": "stream",
     "text": [
      "Length of list =  12\n"
     ]
    }
   ],
   "source": [
    "List2 = [i for i in range(12)]\n",
    "count = 0 \n",
    "\n",
    "for i in List2:\n",
    "    count+=1;\n",
    "\n",
    "print(\"Length of list = \",count)\n"
   ]
  },
  {
   "cell_type": "markdown",
   "metadata": {},
   "source": [
    "# Q4"
   ]
  },
  {
   "cell_type": "code",
   "execution_count": 41,
   "metadata": {},
   "outputs": [
    {
     "name": "stdout",
     "output_type": "stream",
     "text": [
      "Numeric items =\n",
      "1\n",
      "2\n",
      "4\n",
      "5\n",
      "6\n",
      "8\n",
      "numeric elements in a list =  26\n"
     ]
    }
   ],
   "source": [
    "items = [1,2,'a',3.9,4,'c',5,6,7.66,8,'qwerty']\n",
    "count=0;\n",
    "print(\"Numeric items =\" )\n",
    "\n",
    "for i in items:\n",
    "    if type(i)==int:\n",
    "        print(i)\n",
    "        count+=i;\n",
    " \n",
    "\n",
    "print(\"numeric elements in a list = \",count)\n",
    "    "
   ]
  },
  {
   "cell_type": "markdown",
   "metadata": {},
   "source": [
    "# Q5 (method 1)"
   ]
  },
  {
   "cell_type": "code",
   "execution_count": 40,
   "metadata": {},
   "outputs": [
    {
     "name": "stdout",
     "output_type": "stream",
     "text": [
      "[95, 50, 35, 31, 61, 15, 27, 29, 5, 41]\n",
      "The max number is =  95\n"
     ]
    }
   ],
   "source": [
    "import random\n",
    "\n",
    "items = [random.randrange(1, 99) for i in range(10)]\n",
    "\n",
    "print(items)\n",
    "print(\"The max number is = \",max(items))"
   ]
  },
  {
   "cell_type": "markdown",
   "metadata": {},
   "source": [
    "# Q5 (method 2)"
   ]
  },
  {
   "cell_type": "code",
   "execution_count": 39,
   "metadata": {},
   "outputs": [
    {
     "name": "stdout",
     "output_type": "stream",
     "text": [
      "[28, 35, 25, 47, 54, 95, 89, 88, 5, 7]\n",
      "The max number is =  95\n"
     ]
    }
   ],
   "source": [
    "import random\n",
    "\n",
    "items2 = [random.randrange(1, 99) for i in range(10)]\n",
    "\n",
    "print(items2)\n",
    "maximum = 0\n",
    "\n",
    "for i in items2:\n",
    "    if maximum < i:\n",
    "        maximum=i\n",
    "  \n",
    "print(\"The max number is = \",maximum)"
   ]
  },
  {
   "cell_type": "markdown",
   "metadata": {},
   "source": [
    "# Q6"
   ]
  },
  {
   "cell_type": "code",
   "execution_count": 38,
   "metadata": {},
   "outputs": [
    {
     "name": "stdout",
     "output_type": "stream",
     "text": [
      "1\n",
      "1\n",
      "2\n",
      "3\n"
     ]
    }
   ],
   "source": [
    "a = [1, 1, 2, 3, 5, 8, 13, 21, 34, 55, 89]\n",
    "\n",
    "for i in a:\n",
    "    if i < 5:\n",
    "        print(i)"
   ]
  }
 ],
 "metadata": {
  "kernelspec": {
   "display_name": "Python 3",
   "language": "python",
   "name": "python3"
  },
  "language_info": {
   "codemirror_mode": {
    "name": "ipython",
    "version": 3
   },
   "file_extension": ".py",
   "mimetype": "text/x-python",
   "name": "python",
   "nbconvert_exporter": "python",
   "pygments_lexer": "ipython3",
   "version": "3.7.4"
  }
 },
 "nbformat": 4,
 "nbformat_minor": 2
}
