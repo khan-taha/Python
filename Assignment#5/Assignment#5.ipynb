{
 "cells": [
  {
   "cell_type": "markdown",
   "metadata": {},
   "source": [
    "# Q1"
   ]
  },
  {
   "cell_type": "code",
   "execution_count": 7,
   "metadata": {},
   "outputs": [
    {
     "name": "stdout",
     "output_type": "stream",
     "text": [
      "Enter a positive number : 5\n",
      "The factorial for  5  :  120\n"
     ]
    }
   ],
   "source": [
    "number = int(input(\"Enter a positive number : \"))\n",
    "\n",
    "def factorial(num):\n",
    "    if(num==1 or num==0):\n",
    "        return 1;\n",
    "    else:\n",
    "        return num * factorial(num-1)\n",
    "            \n",
    "if (number >=0 ):\n",
    "    \n",
    "    answer = factorial(number)\n",
    "    print(\"The factorial for \",number,\" : \",answer)\n",
    "\n",
    "else:\n",
    "    print(\"You entered a negative number\")\n",
    "\n",
    "\n",
    "\n"
   ]
  },
  {
   "cell_type": "markdown",
   "metadata": {},
   "source": [
    "# Q2"
   ]
  },
  {
   "cell_type": "code",
   "execution_count": 13,
   "metadata": {},
   "outputs": [
    {
     "name": "stdout",
     "output_type": "stream",
     "text": [
      "Enter a string : asdQWER\n",
      "Lower case letters :  3\n",
      "Upper case letters :  4\n"
     ]
    }
   ],
   "source": [
    "string  = input(\"Enter a string : \")\n",
    "lowerCase = 0\n",
    "upperCase = 0\n",
    "\n",
    "for i in string:\n",
    "    if(i.islower()):\n",
    "        lowerCase = lowerCase + 1\n",
    "    if(i.isupper()):\n",
    "        upperCase = upperCase + 1    \n",
    "\n",
    "        \n",
    "print(\"Lower case letters : \",lowerCase)         \n",
    "print(\"Upper case letters : \",upperCase)         \n"
   ]
  },
  {
   "cell_type": "markdown",
   "metadata": {},
   "source": [
    "# Q3"
   ]
  },
  {
   "cell_type": "code",
   "execution_count": 19,
   "metadata": {},
   "outputs": [
    {
     "name": "stdout",
     "output_type": "stream",
     "text": [
      "0\n",
      "2\n",
      "4\n",
      "6\n",
      "8\n",
      "10\n",
      "12\n",
      "14\n",
      "16\n",
      "18\n",
      "20\n",
      "22\n",
      "24\n"
     ]
    }
   ],
   "source": [
    "evenNumbers = [i for i in range(25)]\n",
    "\n",
    "def printEven(numbers):\n",
    "    \n",
    "    for i in numbers:\n",
    "        if(i%2==0):\n",
    "            print(i)    \n",
    "    \n",
    "printEven(evenNumbers)"
   ]
  },
  {
   "cell_type": "markdown",
   "metadata": {},
   "source": [
    "# Q4"
   ]
  },
  {
   "cell_type": "code",
   "execution_count": 26,
   "metadata": {},
   "outputs": [
    {
     "name": "stdout",
     "output_type": "stream",
     "text": [
      "Enter a word : madam\n",
      "The given string is a palindrome\n"
     ]
    }
   ],
   "source": [
    "string = input(\"Enter a word : \")\n",
    "i = 0\n",
    "j = len(string) - 1\n",
    "\n",
    "while 1:\n",
    "    if (i > (len(string))/2 and j < (len(string))/2 ):\n",
    "        \n",
    "        print(\"The given string is a palindrome\")\n",
    "        break;\n",
    "        \n",
    "    elif (string[i] != string[j]):\n",
    "        \n",
    "        print(\"The given string is not a palindrome\")\n",
    "        break;\n",
    "    \n",
    "    else:\n",
    "        \n",
    "        i = i + 1\n",
    "        j = j - 1\n",
    "        \n",
    "    \n",
    "    "
   ]
  },
  {
   "cell_type": "markdown",
   "metadata": {},
   "source": [
    "# Q5"
   ]
  },
  {
   "cell_type": "code",
   "execution_count": 36,
   "metadata": {},
   "outputs": [
    {
     "name": "stdout",
     "output_type": "stream",
     "text": [
      "Enter a number : 29\n",
      "The entered number is a prime number\n"
     ]
    }
   ],
   "source": [
    "def checkPrime(num):\n",
    "    count = 0 \n",
    "    \n",
    "    for i in range(1,num + 1):\n",
    "        \n",
    "        if(num%i == 0):    \n",
    "            count = count + 1\n",
    "            \n",
    "    if (count == 2):\n",
    "        print(\"The entered number is a prime number\")\n",
    "    else:    \n",
    "        print(\"The entered number is not a prime number\")\n",
    "        \n",
    "number = int(input(\"Enter a number : \"))        \n",
    "checkPrime(number)        "
   ]
  },
  {
   "cell_type": "markdown",
   "metadata": {},
   "source": [
    "# Q6"
   ]
  },
  {
   "cell_type": "code",
   "execution_count": 3,
   "metadata": {},
   "outputs": [
    {
     "name": "stdout",
     "output_type": "stream",
     "text": [
      "\n",
      "Select Items : \n",
      "Press...\n",
      "(1) for 'MILK'\n",
      "(2) for 'SUGAR'\n",
      "(3) for 'WATER'\n",
      "(4) for 'CLOTHES'\n",
      "(5) for 'BISCUIT'\n",
      "(6) to EXIT\n",
      "1\n",
      "\n",
      "Select Items : \n",
      "Press...\n",
      "(1) for 'MILK'\n",
      "(2) for 'SUGAR'\n",
      "(3) for 'WATER'\n",
      "(4) for 'CLOTHES'\n",
      "(5) for 'BISCUIT'\n",
      "(6) to EXIT\n",
      "2\n",
      "\n",
      "Select Items : \n",
      "Press...\n",
      "(1) for 'MILK'\n",
      "(2) for 'SUGAR'\n",
      "(3) for 'WATER'\n",
      "(4) for 'CLOTHES'\n",
      "(5) for 'BISCUIT'\n",
      "(6) to EXIT\n",
      "3\n",
      "\n",
      "Select Items : \n",
      "Press...\n",
      "(1) for 'MILK'\n",
      "(2) for 'SUGAR'\n",
      "(3) for 'WATER'\n",
      "(4) for 'CLOTHES'\n",
      "(5) for 'BISCUIT'\n",
      "(6) to EXIT\n",
      "4\n",
      "\n",
      "Select Items : \n",
      "Press...\n",
      "(1) for 'MILK'\n",
      "(2) for 'SUGAR'\n",
      "(3) for 'WATER'\n",
      "(4) for 'CLOTHES'\n",
      "(5) for 'BISCUIT'\n",
      "(6) to EXIT\n",
      "5\n",
      "\n",
      "Select Items : \n",
      "Press...\n",
      "(1) for 'MILK'\n",
      "(2) for 'SUGAR'\n",
      "(3) for 'WATER'\n",
      "(4) for 'CLOTHES'\n",
      "(5) for 'BISCUIT'\n",
      "(6) to EXIT\n",
      "6\n",
      "\n",
      " The items bought are : \n",
      "\n",
      "MILK\n",
      "SUGAR\n",
      "WATER\n",
      "CLOTHES\n",
      "BISCUIT\n"
     ]
    }
   ],
   "source": [
    "def printItems(items):\n",
    "    print(\"\\n The items bought are : \\n\")\n",
    "    for i in items:\n",
    "        print(i)\n",
    "\n",
    "\n",
    "itemsBought= []\n",
    "message = \"\"\"\n",
    "Select Items : \n",
    "Press...\n",
    "(1) for 'MILK'\n",
    "(2) for 'SUGAR'\n",
    "(3) for 'WATER'\n",
    "(4) for 'CLOTHES'\n",
    "(5) for 'BISCUIT'\n",
    "(6) to EXIT\n",
    "\"\"\"\n",
    "\n",
    "while 1:\n",
    "    \n",
    "    option = int(input(message))\n",
    "    \n",
    "    if(option == 1):\n",
    "        itemsBought.append('MILK')\n",
    "    elif(option == 2):\n",
    "        itemsBought.append('SUGAR')    \n",
    "    elif(option == 3):\n",
    "        itemsBought.append('WATER')                    \n",
    "    elif(option == 4):\n",
    "        itemsBought.append('CLOTHES')    \n",
    "    elif(option == 5):\n",
    "        itemsBought.append('BISCUIT')        \n",
    "    elif(option == 6):\n",
    "        break;\n",
    "        \n",
    "printItems(itemsBought)     \n",
    "    "
   ]
  },
  {
   "cell_type": "code",
   "execution_count": null,
   "metadata": {},
   "outputs": [],
   "source": []
  }
 ],
 "metadata": {
  "kernelspec": {
   "display_name": "Python 3",
   "language": "python",
   "name": "python3"
  },
  "language_info": {
   "codemirror_mode": {
    "name": "ipython",
    "version": 3
   },
   "file_extension": ".py",
   "mimetype": "text/x-python",
   "name": "python",
   "nbconvert_exporter": "python",
   "pygments_lexer": "ipython3",
   "version": "3.7.4"
  }
 },
 "nbformat": 4,
 "nbformat_minor": 2
}
